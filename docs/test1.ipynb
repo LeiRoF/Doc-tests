{
 "cells": [
  {
   "cell_type": "markdown",
   "metadata": {},
   "source": [
    "Ceci est un titre principal !\n",
    "===\n",
    "\n",
    "# Ceci est un titre de niveau 1\n",
    "\n",
    "## Niveau 2\n",
    "\n",
    "### Niveau 3\n",
    "\n",
    "#### Niveau 4\n",
    "\n",
    "##### Niveau 5\n",
    "\n",
    "###### Niveau 6\n",
    "\n",
    "Etc.\n",
    "\n",
    "> Plutôt cool non ?"
   ]
  },
  {
   "cell_type": "code",
   "execution_count": 1,
   "metadata": {},
   "outputs": [
    {
     "name": "stdout",
     "output_type": "stream",
     "text": [
      "Hello World\n"
     ]
    }
   ],
   "source": [
    "print(\"Hello World\")"
   ]
  }
 ],
 "metadata": {
  "interpreter": {
   "hash": "0449edab777f5c499a47cead1fef199c3c2c22176eaf586b1c33a58cfb1d0907"
  },
  "kernelspec": {
   "display_name": "Python 3.9.7 64-bit (windows store)",
   "language": "python",
   "name": "python3"
  },
  "language_info": {
   "codemirror_mode": {
    "name": "ipython",
    "version": 3
   },
   "file_extension": ".py",
   "mimetype": "text/x-python",
   "name": "python",
   "nbconvert_exporter": "python",
   "pygments_lexer": "ipython3",
   "version": "3.9.7"
  },
  "orig_nbformat": 4
 },
 "nbformat": 4,
 "nbformat_minor": 2
}
