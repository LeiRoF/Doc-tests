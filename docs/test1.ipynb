{
 "cells": [
  {
   "cell_type": "markdown",
   "metadata": {},
   "source": [
    "Ceci est un titre principal !\n",
    "===\n",
    "\n",
    "# Ceci est un titre de niveau 1\n",
    "\n",
    "Etc.\n",
    "\n",
    "> Plutôt cool non ?"
   ]
  }
 ],
 "metadata": {
  "language_info": {
   "name": "python"
  },
  "orig_nbformat": 4
 },
 "nbformat": 4,
 "nbformat_minor": 2
}
